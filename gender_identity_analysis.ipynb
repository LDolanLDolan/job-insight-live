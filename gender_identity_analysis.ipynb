{
 "cells": [
  {
   "cell_type": "markdown",
   "id": "503de40f",
   "metadata": {},
   "source": []
  },
  {
   "cell_type": "markdown",
   "id": "e5dfd1ec",
   "metadata": {},
   "source": [
    "# Gender Identity Census Analysis (ONS 2021)\n",
    "\n",
    "This notebook visualises gender identity across UK local authorities based on Census 2021 data.\n",
    "\n",
    "It produces:\n",
    "- A bar chart comparing gender identity categories across local authorities\n",
    "- A pie chart showing total responses across all regions\n",
    "\n",
    "Dataset: `gender_identity_by_area.csv`\n"
   ]
  },
  {
   "cell_type": "markdown",
   "id": "e9aac697",
   "metadata": {},
   "source": [
    "import pandas as pd\n",
    "import matplotlib.pyplot as plt\n",
    "\n",
    "# Load data\n",
    "df = pd.read_csv(\"gender_identity_by_area.csv\")\n",
    "df = df[df['Gender identity (8 categories)'] != 'Does not apply']\n"
   ]
  },
  {
   "cell_type": "markdown",
   "id": "7cf50a6b",
   "metadata": {},
   "source": [
    "# Bar chart by local authority\n",
    "pivot_df = df.pivot(\n",
    "    index='Gender identity (8 categories)',\n",
    "    columns='Lower Tier Local Authorities',\n",
    "    values='Observation'\n",
    ")\n",
    "\n",
    "pivot_df.plot(kind='bar', figsize=(12, 6), log=True)\n",
    "plt.title(\"Gender Identity by Local Authority (log scale)\")\n",
    "plt.ylabel(\"Number of People (log scale)\")\n",
    "plt.xlabel(\"Gender Identity Category\")\n",
    "plt.xticks(rotation=45, ha='right')\n",
    "plt.legend(title=\"Local Authority\")\n",
    "plt.tight_layout()\n",
    "plt.show()\n"
   ]
  },
  {
   "cell_type": "markdown",
   "id": "8cae0ec1",
   "metadata": {},
   "source": [
    "# Pie chart of totals\n",
    "summary_df = df.groupby('Gender identity (8 categories)')['Observation'].sum().sort_values(ascending=False)\n",
    "\n",
    "plt.figure(figsize=(8, 8))\n",
    "plt.pie(summary_df, labels=summary_df.index, autopct='%1.1f%%', startangle=90, counterclock=False)\n",
    "plt.title(\"Overall Gender Identity Distribution (All Areas)\")\n",
    "plt.axis('equal')\n",
    "plt.show()\n"
   ]
  },
  {
   "cell_type": "markdown",
   "id": "9b789964",
   "metadata": {},
   "source": []
  }
 ],
 "metadata": {
  "language_info": {
   "name": "python"
  }
 },
 "nbformat": 4,
 "nbformat_minor": 5
}
